{
  "nbformat": 4,
  "nbformat_minor": 0,
  "metadata": {
    "accelerator": "GPU",
    "colab": {
      "name": "HPC2.ipynb",
      "provenance": [],
      "collapsed_sections": []
    },
    "kernelspec": {
      "display_name": "Python 3",
      "language": "python",
      "name": "python3"
    },
    "language_info": {
      "codemirror_mode": {
        "name": "ipython",
        "version": 3
      },
      "file_extension": ".py",
      "mimetype": "text/x-python",
      "name": "python",
      "nbconvert_exporter": "python",
      "pygments_lexer": "ipython3",
      "version": "3.6.3"
    }
  },
  "cells": [
    {
      "cell_type": "code",
      "metadata": {
        "collapsed": true,
        "id": "FSqRKOFuJuaZ"
      },
      "source": [
        "code = \"\"\"\n",
        "#include<iostream>\n",
        "#include<cstdlib>\n",
        "using namespace std;\n",
        "\n",
        "__global__ void vectorAdd(int *a, int *b, int *result, int n) {\n",
        "    int tid = blockIdx.x*blockDim.x + threadIdx.x;\n",
        "    if(tid <= n) {\n",
        "        result[tid] = a[tid] + b[tid];\n",
        "    }\n",
        "}\n",
        "\n",
        "void print_array(int *a, int N) {\n",
        "    for(int i=0; i<N; i++) {\n",
        "        cout<<\"  \"<<a[i];\n",
        "    }\n",
        "    cout<<endl;\n",
        "}\n",
        "\n",
        "void init_array(int *a, int N) {\n",
        "    for(int i=0; i<N; i++) {\n",
        "        a[i] = rand()%10 + 1;\n",
        "    }\n",
        "}\n",
        "\n",
        "int main() {\n",
        "    int *a, *b, *c;\n",
        "    int *a_dev, *b_dev, *c_dev;\n",
        "    int n = 8;           //24\n",
        "    \n",
        "    a = (int*)malloc(n * sizeof(n));\n",
        "    b = (int*)malloc(n * sizeof(n));\n",
        "    c = (int*)malloc(n * sizeof(n));\n",
        "\n",
        "    int size = n * sizeof(int);\n",
        "    \n",
        "    cudaMalloc(&a_dev, size);\n",
        "    cudaMalloc(&b_dev, size);\n",
        "    cudaMalloc(&c_dev, size);\n",
        "    \n",
        "    init_array(a, n);\n",
        "    init_array(b, n);\n",
        "    \n",
        "    print_array(a, n);\n",
        "    print_array(b, n);\n",
        "        \n",
        "    //cudaEvent_t start, end;\n",
        "    //cudaEventCreate(&start);\n",
        "    //cudaEventCreate(&end);\n",
        "    \n",
        "    cudaMemcpy(a_dev, a, size, cudaMemcpyHostToDevice);\n",
        "    cudaMemcpy(b_dev, b, size, cudaMemcpyHostToDevice);\n",
        "    \n",
        "    //int threads = 1024;\n",
        "    //int blocks = (n+threads-1)/threads;\n",
        "    \n",
        "    //cudaEventRecord(start);\n",
        "    \n",
        "    //vectorAdd<<<blocks,threads>>>(a_dev, b_dev, c_dev, n);\n",
        "    vectorAdd<<<1,1024>>>(a_dev, b_dev, c_dev, n);\n",
        "    \n",
        "    //cudaEventRecord(end);\n",
        "    \n",
        "    //cudaDeviceSynchronize();\n",
        "       \n",
        "    //float time = 0.0;\n",
        "    //cudaEventElapsedTime(&time, start, end);\n",
        "    \n",
        "    cudaMemcpy(c, c_dev, size, cudaMemcpyDeviceToHost);\n",
        "    \n",
        "    cout<<\"Results : \"<<endl;\n",
        "    print_array(c, n);\n",
        " \n",
        "    //cout<<\"Time elapsed : \"<<time<<endl;\n",
        "        \n",
        "    cudaFree(a_dev);\n",
        "    cudaFree(b_dev);\n",
        "    cudaFree(c_dev);\n",
        "        \n",
        "    return 0;\n",
        "}\n",
        "\"\"\""
      ],
      "execution_count": null,
      "outputs": []
    },
    {
      "cell_type": "code",
      "metadata": {
        "collapsed": true,
        "id": "-DiT5fKyNpR0"
      },
      "source": [
        "text_file = open(\"assign2.cu\", \"w\")\n",
        "text_file.write(code)\n",
        "text_file.close()"
      ],
      "execution_count": null,
      "outputs": []
    },
    {
      "cell_type": "code",
      "metadata": {
        "collapsed": true,
        "id": "F8DCYJswOPwB"
      },
      "source": [
        "!nvcc assign2.cu"
      ],
      "execution_count": null,
      "outputs": []
    },
    {
      "cell_type": "code",
      "metadata": {
        "colab": {
          "base_uri": "https://localhost:8080/"
        },
        "id": "bzdUYoZ-Oejc",
        "outputId": "545d1276-f3c5-43a4-d816-bc0363e62e94"
      },
      "source": [
        "!./a.out"
      ],
      "execution_count": null,
      "outputs": [
        {
          "output_type": "stream",
          "text": [
            "  4  7  8  6  4  6  7  3\n",
            "  10  2  3  8  1  10  4  7\n",
            "Results : \n",
            "  14  9  11  14  5  16  11  10\n"
          ],
          "name": "stdout"
        }
      ]
    },
    {
      "cell_type": "code",
      "metadata": {
        "collapsed": true,
        "id": "oLibC81KLJPy"
      },
      "source": [
        "code = \"\"\"#include<iostream>\n",
        "\n",
        "using namespace std;\n",
        "\n",
        "__global__\n",
        "void matrixVector(int *vec, int *mat, int *result, int n, int m)\n",
        "{\n",
        "    int tid = blockIdx.x*blockDim.x + threadIdx.x;\n",
        "    int sum=0;\n",
        "    \n",
        "    if(tid <= n) {\n",
        "        for(int i=0; i<n; i++) {\n",
        "            sum += vec[i]*mat[(i*m) + tid];\n",
        "        }\n",
        "        result[tid] = sum;\n",
        "    }\n",
        "}\n",
        "\n",
        "void init_array(int *a, int n) {\n",
        "    for(int i=0; i<n; i++)\n",
        "      a[i] = rand()%n + 1;\n",
        "}\n",
        "\n",
        "void init_matrix(int *a, int n, int m) {\n",
        "    for(int i=0; i<n; i++) {\n",
        "        for(int j=0; j<m; j++) {\n",
        "            a[i*m + j] = rand()%n + 1;\n",
        "        }\n",
        "    }\n",
        "}\n",
        "\n",
        "void print_array(int *a, int n) {\n",
        "    for(int i=0; i<n; i++) {\n",
        "        cout<<\"  \"<<a[i];\n",
        "    }\n",
        "    cout<<endl;\n",
        "}\n",
        "\n",
        "void print_matrix(int *a, int n, int m) {\n",
        "    for(int i=0; i<n; i++) {\n",
        "        for(int j=0; j<m; j++)\n",
        "          cout<<\"  \"<<a[i*m + j];\n",
        "        cout<<endl;\n",
        "    }\n",
        "}\n",
        "\n",
        "int main() {\n",
        "    int *a, *b, *c;\n",
        "    int *a_dev, *b_dev, *c_dev;\n",
        "    \n",
        "    int n = 3;\n",
        "    int m = 4;\n",
        "    \n",
        "    a = new int[n];\n",
        "    b = new int[n*m];\n",
        "    c = new int[m];\n",
        "    \n",
        "    init_array(a, n);\n",
        "    init_matrix(b, n, m);\n",
        "        \n",
        "    cout<<\"Initial array : \"<<endl;\n",
        "    print_array(a, n);\n",
        "    cout<<\"Initial matrix : \"<<endl;\n",
        "    print_matrix(b, n, m);\n",
        "    cout<<\"Initial resultant array : \"<<endl;\n",
        "    print_array(c, m);\n",
        "    cout<<endl;\n",
        "    \n",
        "    cudaMalloc(&a_dev, sizeof(int)*n);\n",
        "    cudaMalloc(&b_dev, sizeof(int)*n*m);\n",
        "    cudaMalloc(&c_dev, sizeof(int)*m);\n",
        "    \n",
        "    cudaMemcpy(a_dev, a, sizeof(int)*n, cudaMemcpyHostToDevice);\n",
        "    cudaMemcpy(b_dev, b, sizeof(int)*n*m, cudaMemcpyHostToDevice);\n",
        "    \n",
        "    matrixVector<<<m/256+1, 256>>>(a_dev, b_dev, c_dev, n, m);\n",
        "    \n",
        "    cudaMemcpy(c, c_dev, sizeof(int)*m, cudaMemcpyDeviceToHost);\n",
        "    \n",
        "    cout<<\"Results : \"<<endl;\n",
        "    print_array(c, m);\n",
        "    \n",
        "    cudaFree(a_dev);\n",
        "    cudaFree(b_dev);\n",
        "    cudaFree(c_dev);\n",
        "    \n",
        "    delete[] a;\n",
        "    delete[] b;\n",
        "    delete[] c;\n",
        "    \n",
        "    return 0;\n",
        "}\n",
        "\n",
        "\n",
        "\"\"\""
      ],
      "execution_count": null,
      "outputs": []
    },
    {
      "cell_type": "code",
      "metadata": {
        "id": "nVTSfgYHs2AJ"
      },
      "source": [
        "text_file = open(\"matVec.cu\", \"w\")\n",
        "text_file.write(code)\n",
        "text_file.close()"
      ],
      "execution_count": null,
      "outputs": []
    },
    {
      "cell_type": "code",
      "metadata": {
        "id": "KFIPVezos4Mw"
      },
      "source": [
        "!nvcc matVec.cu"
      ],
      "execution_count": null,
      "outputs": []
    },
    {
      "cell_type": "code",
      "metadata": {
        "colab": {
          "base_uri": "https://localhost:8080/"
        },
        "id": "Cfgb4n2htFag",
        "outputId": "37255619-f910-4a60-885a-e8c4340cc425"
      },
      "source": [
        "!./a.out"
      ],
      "execution_count": null,
      "outputs": [
        {
          "output_type": "stream",
          "text": [
            "Initial array : \n",
            "  2  2  1\n",
            "Initial matrix : \n",
            "  2  3  2  2\n",
            "  1  1  2  3\n",
            "  2  3  2  3\n",
            "Initial resultant array : \n",
            "  0  0  0  0\n",
            "\n",
            "Results : \n",
            "  8  11  10  13\n"
          ],
          "name": "stdout"
        }
      ]
    },
    {
      "cell_type": "code",
      "metadata": {
        "id": "7q4SYsLAtJAf"
      },
      "source": [
        "code = \"\"\"\n",
        "#include<iostream>\n",
        "\n",
        "using namespace std;\n",
        "\n",
        "__global__\n",
        "void matrixMultiplication(int *a, int *b, int *c, int m, int n, int k)\n",
        "{\n",
        "    int row = blockIdx.y*blockDim.y + threadIdx.y;\n",
        "    int col = blockIdx.x*blockDim.x + threadIdx.x;\n",
        "    int sum=0;\n",
        "   \n",
        "    if(col<k && row<m) {\n",
        "      for(int j=0;j<n;j++)\n",
        "      {\n",
        "          sum += a[row*n+j] * b[j*k+col];\n",
        "      }\n",
        "      c[k*row+col]=sum;\n",
        "    }\n",
        "    \n",
        "}\n",
        "\n",
        "void init_result(int *a, int m, int k) {\n",
        "    for(int i=0; i<m; i++) {\n",
        "      for(int j=0; j<k; j++) {\n",
        "        a[i*k + j] = 0;\n",
        "      }\n",
        "    }\n",
        "}\n",
        "\n",
        "void init_matrix(int *a, int n, int m) {\n",
        "    for(int i=0; i<n; i++) {\n",
        "      for(int j=0; j<m; j++) {\n",
        "        a[i*m + j] = rand()%10 + 1;\n",
        "      }\n",
        "    }\n",
        "}\n",
        "\n",
        "void print_matrix(int *a, int n, int m) {\n",
        "    for(int i=0; i<n; i++) {\n",
        "      for(int j=0; j<m; j++) {\n",
        "        cout<<\"  \"<<a[i*m + j];\n",
        "      }\n",
        "      cout<<endl;\n",
        "    }\n",
        "    cout<<endl;\n",
        "}\n",
        "\n",
        "int main()\n",
        "{\n",
        "    \n",
        "    int *a,*b,*c;\n",
        "    int *a_dev,*b_dev,*c_dev;\n",
        "    int m=5, n=4, k=3;\n",
        "    \n",
        "    a = new int[m*n];\n",
        "    b = new int[n*k];\n",
        "    c = new int[m*k];\n",
        "    \n",
        "    init_matrix(a, m, n);\n",
        "    init_matrix(b, n ,k);\n",
        "    init_result(c, m, k);\n",
        "    \n",
        "    cout<<\"Initial matrix : \"<<endl;\n",
        "    \n",
        "    print_matrix(a, m, n);\n",
        "    print_matrix(b, n, k);\n",
        "    print_matrix(c, m, k);\n",
        "    \n",
        "    cudaMalloc(&a_dev, sizeof(int)*m*n);\n",
        "    cudaMalloc(&b_dev, sizeof(int)*n*k);\n",
        "    cudaMalloc(&c_dev, sizeof(int)*m*k);\n",
        "       \n",
        "    cudaMemcpy(a_dev, a, sizeof(int)*m*n, cudaMemcpyHostToDevice);\n",
        "    cudaMemcpy(b_dev, b, sizeof(int)*n*k, cudaMemcpyHostToDevice);\n",
        "    \n",
        "    dim3 dimGrid(1,1);\n",
        "    dim3 dimBlock(16,16);\n",
        "    \n",
        "    matrixMultiplication<<<dimGrid, dimBlock>>>(a_dev,b_dev,c_dev, m, n, k);\n",
        "     \n",
        "    cudaMemcpy(c, c_dev, sizeof(int)*m*k, cudaMemcpyDeviceToHost);\n",
        "    \n",
        "    cout<<\"Result : \"<<endl;\n",
        "    print_matrix(c, m, k);\n",
        "    \n",
        "    cudaFree(a_dev);\n",
        "    cudaFree(b_dev);\n",
        "    cudaFree(c_dev);\n",
        "    \n",
        "    delete[] a;\n",
        "    delete[] b;\n",
        "    delete[] c;\n",
        "    \n",
        "    return 0;\n",
        "}\n",
        "\"\"\""
      ],
      "execution_count": null,
      "outputs": []
    },
    {
      "cell_type": "code",
      "metadata": {
        "id": "2Xv-e_Nhth3v"
      },
      "source": [
        "text_file = open(\"matMulti.cu\", \"w\")\n",
        "text_file.write(code)\n",
        "text_file.close()"
      ],
      "execution_count": null,
      "outputs": []
    },
    {
      "cell_type": "code",
      "metadata": {
        "id": "hacES_6btkmd"
      },
      "source": [
        "!nvcc matMulti.cu"
      ],
      "execution_count": null,
      "outputs": []
    },
    {
      "cell_type": "code",
      "metadata": {
        "id": "xnhvE4QntnjI",
        "colab": {
          "base_uri": "https://localhost:8080/"
        },
        "outputId": "e44e20c2-aa2a-4ed1-b04f-3ecb02247e07"
      },
      "source": [
        "!./a.out"
      ],
      "execution_count": null,
      "outputs": [
        {
          "output_type": "stream",
          "text": [
            "Initial matrix : \n",
            "  4  7  8  6\n",
            "  4  6  7  3\n",
            "  10  2  3  8\n",
            "  1  10  4  7\n",
            "  1  7  3  7\n",
            "\n",
            "  2  9  8\n",
            "  10  3  1\n",
            "  3  4  8\n",
            "  6  10  3\n",
            "\n",
            "  0  0  0\n",
            "  0  0  0\n",
            "  0  0  0\n",
            "  0  0  0\n",
            "  0  0  0\n",
            "\n",
            "Result : \n",
            "  138  149  121\n",
            "  107  112  103\n",
            "  97  188  130\n",
            "  156  125  71\n",
            "  123  112  60\n",
            "\n"
          ],
          "name": "stdout"
        }
      ]
    },
    {
      "cell_type": "code",
      "metadata": {
        "id": "_k0611gjtrCf"
      },
      "source": [
        ""
      ],
      "execution_count": null,
      "outputs": []
    }
  ]
}